{
  "nbformat": 4,
  "nbformat_minor": 0,
  "metadata": {
    "colab": {
      "name": "Stock_Prediction_Sentiment_Analysis.ipynb",
      "provenance": [],
      "collapsed_sections": [],
      "authorship_tag": "ABX9TyMzq1hj9Mqvgi3DUViqUegm",
      "include_colab_link": true
    },
    "kernelspec": {
      "name": "python3",
      "display_name": "Python 3"
    }
  },
  "cells": [
    {
      "cell_type": "markdown",
      "metadata": {
        "id": "view-in-github",
        "colab_type": "text"
      },
      "source": [
        "<a href=\"https://colab.research.google.com/github/aisutd/Stock-and-ETF-Prediction/blob/main/Stock_Prediction_Sentiment_Analysis.ipynb\" target=\"_parent\"><img src=\"https://colab.research.google.com/assets/colab-badge.svg\" alt=\"Open In Colab\"/></a>"
      ]
    },
    {
      "cell_type": "code",
      "metadata": {
        "id": "G5WJ7wwzSVIw"
      },
      "source": [
        "# https://randerson112358.medium.com/stock-market-sentiment-analysis-using-python-machine-learning-5b644f151a3e\n",
        "# https://www.kaggle.com/aaron7sun/stocknews\n",
        "# https://medium.com/@kala.shagun/stock-market-prediction-using-news-sentiments-f9101e5ee1f4\n",
        "# https://medium.com/@kala.shagun/stock-market-prediction-using-news-sentiments-dc4c24c976f7\n",
        "# https://medium.com/@Currie32/predicting-the-stock-market-with-the-news-and-deep-learning-7fc8f5f639bc\n",
        "# "
      ],
      "execution_count": null,
      "outputs": []
    },
    {
      "cell_type": "code",
      "metadata": {
        "id": "rE55vXZJSj3s",
        "colab": {
          "base_uri": "https://localhost:8080/"
        },
        "outputId": "84f10826-e43d-4cef-d96d-ba7a7a1dd4ed"
      },
      "source": [
        "%pip install vaderSentiment\n",
        "import pandas_datareader as web\n",
        "import pandas as pd\n",
        "import numpy as np\n",
        "from textblob import TextBlob\n",
        "import re\n",
        "import nltk\n",
        "import vaderSentiment\n",
        "from vaderSentiment.vaderSentiment import SentimentIntensityAnalyzer"
      ],
      "execution_count": null,
      "outputs": [
        {
          "output_type": "stream",
          "text": [
            "Collecting vaderSentiment\n",
            "\u001b[?25l  Downloading https://files.pythonhosted.org/packages/76/fc/310e16254683c1ed35eeb97386986d6c00bc29df17ce280aed64d55537e9/vaderSentiment-3.3.2-py2.py3-none-any.whl (125kB)\n",
            "\r\u001b[K     |██▋                             | 10kB 11.1MB/s eta 0:00:01\r\u001b[K     |█████▏                          | 20kB 15.5MB/s eta 0:00:01\r\u001b[K     |███████▉                        | 30kB 8.5MB/s eta 0:00:01\r\u001b[K     |██████████▍                     | 40kB 8.1MB/s eta 0:00:01\r\u001b[K     |█████████████                   | 51kB 4.3MB/s eta 0:00:01\r\u001b[K     |███████████████▋                | 61kB 5.0MB/s eta 0:00:01\r\u001b[K     |██████████████████▏             | 71kB 5.1MB/s eta 0:00:01\r\u001b[K     |████████████████████▉           | 81kB 5.2MB/s eta 0:00:01\r\u001b[K     |███████████████████████▍        | 92kB 5.6MB/s eta 0:00:01\r\u001b[K     |██████████████████████████      | 102kB 5.7MB/s eta 0:00:01\r\u001b[K     |████████████████████████████▋   | 112kB 5.7MB/s eta 0:00:01\r\u001b[K     |███████████████████████████████▏| 122kB 5.7MB/s eta 0:00:01\r\u001b[K     |████████████████████████████████| 133kB 5.7MB/s \n",
            "\u001b[?25hRequirement already satisfied: requests in /usr/local/lib/python3.7/dist-packages (from vaderSentiment) (2.23.0)\n",
            "Requirement already satisfied: idna<3,>=2.5 in /usr/local/lib/python3.7/dist-packages (from requests->vaderSentiment) (2.10)\n",
            "Requirement already satisfied: chardet<4,>=3.0.2 in /usr/local/lib/python3.7/dist-packages (from requests->vaderSentiment) (3.0.4)\n",
            "Requirement already satisfied: urllib3!=1.25.0,!=1.25.1,<1.26,>=1.21.1 in /usr/local/lib/python3.7/dist-packages (from requests->vaderSentiment) (1.24.3)\n",
            "Requirement already satisfied: certifi>=2017.4.17 in /usr/local/lib/python3.7/dist-packages (from requests->vaderSentiment) (2020.12.5)\n",
            "Installing collected packages: vaderSentiment\n",
            "Successfully installed vaderSentiment-3.3.2\n"
          ],
          "name": "stdout"
        }
      ]
    },
    {
      "cell_type": "code",
      "metadata": {
        "colab": {
          "base_uri": "https://localhost:8080/"
        },
        "id": "X6Tc2YRaTpfT",
        "outputId": "3fd0d96f-cb16-438a-d0c8-aa24705674ae"
      },
      "source": [
        "df1 = web.DataReader('^DJI', data_source='yahoo', start='2008-08-08', end='2016-07-01')\n",
        "df1\n",
        "print(type(df1))\n",
        "# df2 = pd.read_csv('Combined_News_DJIA.csv')\n",
        "# df2.head(1)"
      ],
      "execution_count": null,
      "outputs": [
        {
          "output_type": "stream",
          "text": [
            "<class 'pandas.core.frame.DataFrame'>\n"
          ],
          "name": "stdout"
        }
      ]
    },
    {
      "cell_type": "code",
      "metadata": {
        "colab": {
          "base_uri": "https://localhost:8080/",
          "height": 142
        },
        "id": "fv4XaG9UapL7",
        "outputId": "3957a966-3bd7-40e5-f287-916e320689da"
      },
      "source": [
        "headlines = []\n",
        "for row in range(df2.shape[0]):\n",
        "  headlines.append(' '.join(str(x) for x in df2.iloc[row,2:27]))\n",
        "df2[\"Combined News\"] = headlines\n",
        "#df2.head(3)\n",
        "updated_df2 = pd.DataFrame(df2, columns=['Date', 'Combined News'])\n",
        "updated_df2.head(3)"
      ],
      "execution_count": null,
      "outputs": [
        {
          "output_type": "execute_result",
          "data": {
            "text/html": [
              "<div>\n",
              "<style scoped>\n",
              "    .dataframe tbody tr th:only-of-type {\n",
              "        vertical-align: middle;\n",
              "    }\n",
              "\n",
              "    .dataframe tbody tr th {\n",
              "        vertical-align: top;\n",
              "    }\n",
              "\n",
              "    .dataframe thead th {\n",
              "        text-align: right;\n",
              "    }\n",
              "</style>\n",
              "<table border=\"1\" class=\"dataframe\">\n",
              "  <thead>\n",
              "    <tr style=\"text-align: right;\">\n",
              "      <th></th>\n",
              "      <th>Date</th>\n",
              "      <th>Combined News</th>\n",
              "    </tr>\n",
              "  </thead>\n",
              "  <tbody>\n",
              "    <tr>\n",
              "      <th>0</th>\n",
              "      <td>2008-08-08</td>\n",
              "      <td>b\"Georgia 'downs two Russian warplanes' as cou...</td>\n",
              "    </tr>\n",
              "    <tr>\n",
              "      <th>1</th>\n",
              "      <td>2008-08-11</td>\n",
              "      <td>b'Why wont America and Nato help us? If they w...</td>\n",
              "    </tr>\n",
              "    <tr>\n",
              "      <th>2</th>\n",
              "      <td>2008-08-12</td>\n",
              "      <td>b'Remember that adorable 9-year-old who sang a...</td>\n",
              "    </tr>\n",
              "  </tbody>\n",
              "</table>\n",
              "</div>"
            ],
            "text/plain": [
              "         Date                                      Combined News\n",
              "0  2008-08-08  b\"Georgia 'downs two Russian warplanes' as cou...\n",
              "1  2008-08-11  b'Why wont America and Nato help us? If they w...\n",
              "2  2008-08-12  b'Remember that adorable 9-year-old who sang a..."
            ]
          },
          "metadata": {
            "tags": []
          },
          "execution_count": 103
        }
      ]
    },
    {
      "cell_type": "code",
      "metadata": {
        "id": "oUfuNvoWUWKK"
      },
      "source": [
        "def sentiment_score(row):\n",
        "  sid_obj = SentimentIntensityAnalyzer()\n",
        "  sentence = row\n",
        "  sentiment_dict = sid_obj.polarity_scores(sentence) \n",
        "\n",
        "  #print(\"Sentence\", sentence)\n",
        "  neg = sentiment_dict['neg']*100\n",
        "  neu = sentiment_dict['neu']*100\n",
        "  pos = sentiment_dict['pos']*100\n",
        "  compound = sentiment_dict['compound']\n",
        "  #print(\"Overall sentiment dictionary is : \", sentiment_dict) \n",
        "  #print(\"sentence was rated as \", neg, \"% Negative\") \n",
        "  #print(\"sentence was rated as \", neu, \"% Neutral\") \n",
        "  #print(\"sentence was rated as \", pos, \"% Positive\") \n",
        "\n",
        "  # print(\"Sentence Overall Rated As\", end = \" \") \n",
        "  # if sentiment_dict['compound'] >= 0.05 : \n",
        "  #     print(\"Positive\") \n",
        "    \n",
        "  # elif sentiment_dict['compound'] <= - 0.05 : \n",
        "  #     print(\"Negative\") \n",
        "\n",
        "  # else : \n",
        "  #     print(\"Neutral\")\n",
        "    \n",
        "  #print(\"\\n\")\n",
        "  return compound, neg, neu, pos"
      ],
      "execution_count": null,
      "outputs": []
    },
    {
      "cell_type": "code",
      "metadata": {
        "id": "gZGNUy83nt8m"
      },
      "source": [
        "# combine stock df and news df with the sentiment scores for each row\n",
        "compound_ = []\n",
        "negative_ = []\n",
        "neutral_ = []\n",
        "positive_ = []\n",
        "\n",
        "for i in range(len(updated_df2)):\n",
        "  curr = updated_df2['Combined News'][i]\n",
        "  compound, neg, neu, pos = sentiment_score(curr)\n",
        "  #print(compound, neg,neu,pos, '\\n')\n",
        "  compound_.append(compound)\n",
        "  negative_.append(neg)\n",
        "  neutral_.append(neu)\n",
        "  positive_.append(pos)\n"
      ],
      "execution_count": null,
      "outputs": []
    },
    {
      "cell_type": "code",
      "metadata": {
        "colab": {
          "base_uri": "https://localhost:8080/"
        },
        "id": "4GO2Cm012Uwx",
        "outputId": "90be2bba-1361-479a-cf83-bca9801967cc"
      },
      "source": [
        "print(len(df1) == len(compound_) == len(negative_) == len(neutral_) == len(positive_))"
      ],
      "execution_count": null,
      "outputs": [
        {
          "output_type": "stream",
          "text": [
            "True\n"
          ],
          "name": "stdout"
        }
      ]
    },
    {
      "cell_type": "code",
      "metadata": {
        "id": "atLS_jgu1sP_",
        "colab": {
          "base_uri": "https://localhost:8080/",
          "height": 235
        },
        "outputId": "25490f27-5b3c-4b1f-f317-491844facd0c"
      },
      "source": [
        "df1['Compound'] = compound_\n",
        "df1['Negative'] = negative_\n",
        "df1['Neutral'] = neutral_\n",
        "df1['Positive'] = positive_\n",
        "df1.tail()"
      ],
      "execution_count": null,
      "outputs": [
        {
          "output_type": "execute_result",
          "data": {
            "text/html": [
              "<div>\n",
              "<style scoped>\n",
              "    .dataframe tbody tr th:only-of-type {\n",
              "        vertical-align: middle;\n",
              "    }\n",
              "\n",
              "    .dataframe tbody tr th {\n",
              "        vertical-align: top;\n",
              "    }\n",
              "\n",
              "    .dataframe thead th {\n",
              "        text-align: right;\n",
              "    }\n",
              "</style>\n",
              "<table border=\"1\" class=\"dataframe\">\n",
              "  <thead>\n",
              "    <tr style=\"text-align: right;\">\n",
              "      <th></th>\n",
              "      <th>High</th>\n",
              "      <th>Low</th>\n",
              "      <th>Open</th>\n",
              "      <th>Close</th>\n",
              "      <th>Volume</th>\n",
              "      <th>Adj Close</th>\n",
              "      <th>Compound</th>\n",
              "      <th>Negative</th>\n",
              "      <th>Neutral</th>\n",
              "      <th>Positive</th>\n",
              "    </tr>\n",
              "    <tr>\n",
              "      <th>Date</th>\n",
              "      <th></th>\n",
              "      <th></th>\n",
              "      <th></th>\n",
              "      <th></th>\n",
              "      <th></th>\n",
              "      <th></th>\n",
              "      <th></th>\n",
              "      <th></th>\n",
              "      <th></th>\n",
              "      <th></th>\n",
              "    </tr>\n",
              "  </thead>\n",
              "  <tbody>\n",
              "    <tr>\n",
              "      <th>2016-06-27</th>\n",
              "      <td>17355.210938</td>\n",
              "      <td>17063.080078</td>\n",
              "      <td>17355.210938</td>\n",
              "      <td>17140.240234</td>\n",
              "      <td>1387400</td>\n",
              "      <td>17140.240234</td>\n",
              "      <td>-0.9644</td>\n",
              "      <td>14.8</td>\n",
              "      <td>75.8</td>\n",
              "      <td>9.4</td>\n",
              "    </tr>\n",
              "    <tr>\n",
              "      <th>2016-06-28</th>\n",
              "      <td>17409.720703</td>\n",
              "      <td>17190.509766</td>\n",
              "      <td>17190.509766</td>\n",
              "      <td>17409.720703</td>\n",
              "      <td>1121900</td>\n",
              "      <td>17409.720703</td>\n",
              "      <td>-0.9571</td>\n",
              "      <td>13.2</td>\n",
              "      <td>76.7</td>\n",
              "      <td>10.2</td>\n",
              "    </tr>\n",
              "    <tr>\n",
              "      <th>2016-06-29</th>\n",
              "      <td>17704.509766</td>\n",
              "      <td>17456.019531</td>\n",
              "      <td>17456.019531</td>\n",
              "      <td>17694.679688</td>\n",
              "      <td>1063800</td>\n",
              "      <td>17694.679688</td>\n",
              "      <td>-0.9975</td>\n",
              "      <td>22.5</td>\n",
              "      <td>68.4</td>\n",
              "      <td>9.1</td>\n",
              "    </tr>\n",
              "    <tr>\n",
              "      <th>2016-06-30</th>\n",
              "      <td>17930.609375</td>\n",
              "      <td>17711.800781</td>\n",
              "      <td>17712.759766</td>\n",
              "      <td>17929.990234</td>\n",
              "      <td>1330300</td>\n",
              "      <td>17929.990234</td>\n",
              "      <td>-0.9977</td>\n",
              "      <td>20.2</td>\n",
              "      <td>73.8</td>\n",
              "      <td>6.1</td>\n",
              "    </tr>\n",
              "    <tr>\n",
              "      <th>2016-07-01</th>\n",
              "      <td>18002.380859</td>\n",
              "      <td>17916.910156</td>\n",
              "      <td>17924.240234</td>\n",
              "      <td>17949.369141</td>\n",
              "      <td>821600</td>\n",
              "      <td>17949.369141</td>\n",
              "      <td>-0.9983</td>\n",
              "      <td>21.2</td>\n",
              "      <td>72.9</td>\n",
              "      <td>5.9</td>\n",
              "    </tr>\n",
              "  </tbody>\n",
              "</table>\n",
              "</div>"
            ],
            "text/plain": [
              "                    High           Low  ...  Neutral  Positive\n",
              "Date                                    ...                   \n",
              "2016-06-27  17355.210938  17063.080078  ...     75.8       9.4\n",
              "2016-06-28  17409.720703  17190.509766  ...     76.7      10.2\n",
              "2016-06-29  17704.509766  17456.019531  ...     68.4       9.1\n",
              "2016-06-30  17930.609375  17711.800781  ...     73.8       6.1\n",
              "2016-07-01  18002.380859  17916.910156  ...     72.9       5.9\n",
              "\n",
              "[5 rows x 10 columns]"
            ]
          },
          "metadata": {
            "tags": []
          },
          "execution_count": 107
        }
      ]
    },
    {
      "cell_type": "code",
      "metadata": {
        "id": "7Xk78zo12bR0",
        "colab": {
          "base_uri": "https://localhost:8080/"
        },
        "outputId": "4f497bf7-3947-4767-9922-a8aa781a72b9"
      },
      "source": [
        "# Add column in df1 where it tells whether the stock went up or down from the previous day\n",
        "up_or_down_tomorrow = []\n",
        "for i in range(0, len(df1)-1):\n",
        "  today = df1['Close'][i]\n",
        "  tomorrow = df1['Close'][i+1]\n",
        "  if tomorrow > today:\n",
        "    up_or_down_tomorrow.append(1)\n",
        "  else:\n",
        "    up_or_down_tomorrow.append(0)\n",
        "up_or_down_tomorrow.append(0)\n",
        "print(len(up_or_down_tomorrow))\n",
        "print(len(df1))"
      ],
      "execution_count": null,
      "outputs": [
        {
          "output_type": "stream",
          "text": [
            "1989\n",
            "1989\n"
          ],
          "name": "stdout"
        }
      ]
    },
    {
      "cell_type": "code",
      "metadata": {
        "colab": {
          "base_uri": "https://localhost:8080/",
          "height": 235
        },
        "id": "fU5cBXL2GvXL",
        "outputId": "916f1202-7e67-4270-fbae-eca4d2b11328"
      },
      "source": [
        "df1['Up(1) or Down(0) Tomorrow'] = up_or_down_tomorrow\n",
        "df1.head()"
      ],
      "execution_count": null,
      "outputs": [
        {
          "output_type": "execute_result",
          "data": {
            "text/html": [
              "<div>\n",
              "<style scoped>\n",
              "    .dataframe tbody tr th:only-of-type {\n",
              "        vertical-align: middle;\n",
              "    }\n",
              "\n",
              "    .dataframe tbody tr th {\n",
              "        vertical-align: top;\n",
              "    }\n",
              "\n",
              "    .dataframe thead th {\n",
              "        text-align: right;\n",
              "    }\n",
              "</style>\n",
              "<table border=\"1\" class=\"dataframe\">\n",
              "  <thead>\n",
              "    <tr style=\"text-align: right;\">\n",
              "      <th></th>\n",
              "      <th>High</th>\n",
              "      <th>Low</th>\n",
              "      <th>Open</th>\n",
              "      <th>Close</th>\n",
              "      <th>Volume</th>\n",
              "      <th>Adj Close</th>\n",
              "      <th>Compound</th>\n",
              "      <th>Negative</th>\n",
              "      <th>Neutral</th>\n",
              "      <th>Positive</th>\n",
              "      <th>Up(1) or Down(0) Tomorrow</th>\n",
              "    </tr>\n",
              "    <tr>\n",
              "      <th>Date</th>\n",
              "      <th></th>\n",
              "      <th></th>\n",
              "      <th></th>\n",
              "      <th></th>\n",
              "      <th></th>\n",
              "      <th></th>\n",
              "      <th></th>\n",
              "      <th></th>\n",
              "      <th></th>\n",
              "      <th></th>\n",
              "      <th></th>\n",
              "    </tr>\n",
              "  </thead>\n",
              "  <tbody>\n",
              "    <tr>\n",
              "      <th>2008-08-08</th>\n",
              "      <td>11759.959961</td>\n",
              "      <td>11388.040039</td>\n",
              "      <td>11432.089844</td>\n",
              "      <td>11734.320312</td>\n",
              "      <td>2128300</td>\n",
              "      <td>11734.320312</td>\n",
              "      <td>-0.9979</td>\n",
              "      <td>22.9</td>\n",
              "      <td>72.3</td>\n",
              "      <td>4.9</td>\n",
              "      <td>1</td>\n",
              "    </tr>\n",
              "    <tr>\n",
              "      <th>2008-08-11</th>\n",
              "      <td>11867.110352</td>\n",
              "      <td>11675.530273</td>\n",
              "      <td>11729.669922</td>\n",
              "      <td>11782.349609</td>\n",
              "      <td>1831900</td>\n",
              "      <td>11782.349609</td>\n",
              "      <td>-0.9804</td>\n",
              "      <td>17.0</td>\n",
              "      <td>74.9</td>\n",
              "      <td>8.1</td>\n",
              "      <td>0</td>\n",
              "    </tr>\n",
              "    <tr>\n",
              "      <th>2008-08-12</th>\n",
              "      <td>11782.349609</td>\n",
              "      <td>11601.519531</td>\n",
              "      <td>11781.700195</td>\n",
              "      <td>11642.469727</td>\n",
              "      <td>1735900</td>\n",
              "      <td>11642.469727</td>\n",
              "      <td>-0.9658</td>\n",
              "      <td>12.2</td>\n",
              "      <td>82.3</td>\n",
              "      <td>5.6</td>\n",
              "      <td>0</td>\n",
              "    </tr>\n",
              "    <tr>\n",
              "      <th>2008-08-13</th>\n",
              "      <td>11633.780273</td>\n",
              "      <td>11453.339844</td>\n",
              "      <td>11632.809570</td>\n",
              "      <td>11532.959961</td>\n",
              "      <td>1825500</td>\n",
              "      <td>11532.959961</td>\n",
              "      <td>-0.9809</td>\n",
              "      <td>14.5</td>\n",
              "      <td>79.0</td>\n",
              "      <td>6.5</td>\n",
              "      <td>1</td>\n",
              "    </tr>\n",
              "    <tr>\n",
              "      <th>2008-08-14</th>\n",
              "      <td>11718.280273</td>\n",
              "      <td>11450.889648</td>\n",
              "      <td>11532.070312</td>\n",
              "      <td>11615.929688</td>\n",
              "      <td>1597900</td>\n",
              "      <td>11615.929688</td>\n",
              "      <td>-0.9802</td>\n",
              "      <td>16.7</td>\n",
              "      <td>73.8</td>\n",
              "      <td>9.5</td>\n",
              "      <td>1</td>\n",
              "    </tr>\n",
              "  </tbody>\n",
              "</table>\n",
              "</div>"
            ],
            "text/plain": [
              "                    High           Low  ...  Positive  Up(1) or Down(0) Tomorrow\n",
              "Date                                    ...                                     \n",
              "2008-08-08  11759.959961  11388.040039  ...       4.9                          1\n",
              "2008-08-11  11867.110352  11675.530273  ...       8.1                          0\n",
              "2008-08-12  11782.349609  11601.519531  ...       5.6                          0\n",
              "2008-08-13  11633.780273  11453.339844  ...       6.5                          1\n",
              "2008-08-14  11718.280273  11450.889648  ...       9.5                          1\n",
              "\n",
              "[5 rows x 11 columns]"
            ]
          },
          "metadata": {
            "tags": []
          },
          "execution_count": 115
        }
      ]
    },
    {
      "cell_type": "code",
      "metadata": {
        "colab": {
          "base_uri": "https://localhost:8080/"
        },
        "id": "twoCZB8OKgUY",
        "outputId": "577e4823-a837-47cf-de63-49bda60bb283"
      },
      "source": [
        "import sklearn\n",
        "from sklearn.discriminant_analysis import LinearDiscriminantAnalysis\n",
        "from sklearn.metrics import classification_report\n",
        "\n",
        "x = np.array(df1.drop(['Up(1) or Down(0) Tomorrow'],1))\n",
        "y = df1['Up(1) or Down(0) Tomorrow']\n",
        "x_train, x_test, y_train, y_test = sklearn.model_selection.train_test_split(X, y, test_size=0.2)\n",
        "model = LinearDiscriminantAnalysis().fit(x_train, y_train)\n",
        "predictions = model.predict(x_test)\n",
        "predictions"
      ],
      "execution_count": null,
      "outputs": [
        {
          "output_type": "execute_result",
          "data": {
            "text/plain": [
              "array([1, 1, 1, 1, 1, 1, 1, 1, 0, 1, 1, 1, 1, 1, 1, 1, 0, 1, 1, 1, 1, 1,\n",
              "       1, 0, 1, 0, 1, 1, 1, 1, 0, 1, 1, 1, 1, 1, 1, 1, 1, 1, 1, 1, 1, 1,\n",
              "       1, 1, 1, 1, 1, 0, 0, 0, 1, 1, 1, 0, 1, 1, 0, 1, 1, 1, 1, 0, 1, 1,\n",
              "       0, 1, 1, 1, 1, 1, 1, 1, 1, 1, 1, 1, 1, 1, 1, 1, 1, 1, 1, 1, 1, 1,\n",
              "       0, 1, 1, 0, 1, 1, 1, 1, 1, 1, 1, 1, 1, 1, 1, 1, 1, 0, 1, 0, 0, 1,\n",
              "       1, 1, 1, 1, 1, 0, 1, 1, 1, 0, 1, 1, 1, 1, 1, 1, 1, 1, 1, 1, 1, 0,\n",
              "       1, 0, 1, 1, 1, 1, 0, 1, 1, 1, 1, 1, 1, 1, 0, 1, 1, 1, 1, 1, 0, 1,\n",
              "       1, 0, 0, 1, 1, 0, 1, 0, 1, 1, 1, 1, 1, 1, 1, 1, 1, 1, 1, 1, 1, 1,\n",
              "       1, 1, 1, 1, 1, 0, 0, 1, 1, 1, 1, 1, 0, 1, 0, 1, 1, 1, 1, 0, 0, 1,\n",
              "       1, 1, 1, 1, 1, 1, 1, 1, 1, 0, 1, 1, 1, 1, 1, 0, 1, 1, 1, 1, 1, 1,\n",
              "       0, 1, 1, 1, 1, 1, 1, 1, 1, 1, 1, 1, 1, 1, 1, 1, 0, 1, 0, 1, 0, 1,\n",
              "       1, 0, 1, 1, 1, 1, 1, 0, 0, 0, 1, 1, 1, 0, 1, 1, 0, 1, 1, 1, 1, 1,\n",
              "       1, 1, 1, 1, 0, 0, 1, 1, 1, 1, 1, 1, 1, 1, 1, 1, 1, 1, 1, 1, 1, 1,\n",
              "       1, 0, 0, 1, 1, 1, 1, 1, 1, 0, 1, 1, 1, 1, 1, 1, 1, 1, 1, 1, 1, 0,\n",
              "       1, 1, 0, 1, 1, 1, 1, 1, 1, 0, 1, 1, 1, 1, 1, 1, 1, 1, 1, 0, 1, 1,\n",
              "       1, 1, 1, 0, 0, 1, 1, 1, 1, 1, 1, 1, 0, 0, 1, 0, 1, 1, 1, 1, 1, 1,\n",
              "       1, 1, 1, 1, 1, 0, 1, 1, 0, 0, 1, 1, 1, 1, 0, 1, 1, 1, 1, 0, 0, 1,\n",
              "       0, 1, 0, 1, 1, 1, 0, 1, 1, 1, 1, 1, 0, 1, 0, 0, 1, 1, 1, 0, 1, 0,\n",
              "       1, 1])"
            ]
          },
          "metadata": {
            "tags": []
          },
          "execution_count": 124
        }
      ]
    },
    {
      "cell_type": "code",
      "metadata": {
        "colab": {
          "base_uri": "https://localhost:8080/"
        },
        "id": "b-PJJsGfNRgb",
        "outputId": "e2ea17c0-324f-4ebb-dcb5-c5fdce41e293"
      },
      "source": [
        "print( classification_report(y_test, predictions) )"
      ],
      "execution_count": null,
      "outputs": [
        {
          "output_type": "stream",
          "text": [
            "              precision    recall  f1-score   support\n",
            "\n",
            "           0       0.50      0.21      0.30       176\n",
            "           1       0.57      0.83      0.68       222\n",
            "\n",
            "    accuracy                           0.56       398\n",
            "   macro avg       0.54      0.52      0.49       398\n",
            "weighted avg       0.54      0.56      0.51       398\n",
            "\n"
          ],
          "name": "stdout"
        }
      ]
    }
  ]
}